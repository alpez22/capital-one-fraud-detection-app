{
  "nbformat": 4,
  "nbformat_minor": 0,
  "metadata": {
    "colab": {
      "provenance": []
    },
    "kernelspec": {
      "name": "python3",
      "display_name": "Python 3"
    },
    "language_info": {
      "name": "python"
    }
  },
  "cells": [
    {
      "cell_type": "code",
      "execution_count": 8,
      "metadata": {
        "id": "FBQcZ72QquHe"
      },
      "outputs": [],
      "source": [
        "# Import necessary libraries\n",
        "import pandas as pd\n",
        "import numpy as np\n",
        "from sklearn.model_selection import train_test_split\n",
        "from sklearn.preprocessing import StandardScaler, LabelEncoder, OneHotEncoder\n",
        "from sklearn.neighbors import KNeighborsClassifier\n",
        "from sklearn.ensemble import RandomForestClassifier\n",
        "from sklearn.linear_model import LogisticRegression\n",
        "from sklearn.linear_model import Lasso\n",
        "from sklearn.neural_network import MLPClassifier\n",
        "from sklearn.metrics import accuracy_score, classification_report"
      ]
    },
    {
      "cell_type": "code",
      "source": [
        "data = pd.read_csv(\"synthetic_transactions.csv\")\n",
        "data.fillna(0, inplace=True)\n",
        "\n",
        "# Encode categorical variables\n",
        "# Example: Encoding 'customer_gender' (you can repeat this for other categorical columns as needed)\n",
        "label_encoder = LabelEncoder()\n",
        "data['customer_gender'] = label_encoder.fit_transform(data['customer_gender'])  # Convert 'M' and 'F' to 0 and 1\n",
        "\n",
        "# If there are other categorical columns, apply similar encoding or one-hot encoding\n",
        "# For instance: transaction_category\n",
        "data = pd.get_dummies(data, columns=['transaction_category'], drop_first=True)  # One-hot encode 'transaction_category'\n",
        "\n",
        "# Define feature columns and target\n",
        "X = data.drop(columns=[\"fraud\"])  # Features\n",
        "y = data[\"fraud\"]  # Target\n",
        "\n",
        "# Split dataset into train and test sets (80-20 split)\n",
        "X_train, X_test, y_train, y_test = train_test_split(X, y, test_size=0.2, random_state=42)\n",
        "\n",
        "# Scale the features for models that require scaling\n",
        "scaler = StandardScaler()\n",
        "X_train_scaled = scaler.fit_transform(X_train)\n",
        "X_test_scaled = scaler.transform(X_test)\n",
        "\n",
        "# K-Nearest Neighbors\n",
        "print(\"Training K-Nearest Neighbors...\")\n",
        "knn = KNeighborsClassifier(n_neighbors=5)\n",
        "knn.fit(X_train_scaled, y_train)\n",
        "knn_preds = knn.predict(X_test_scaled)\n",
        "print(\"KNN Accuracy:\", accuracy_score(y_test, knn_preds))\n",
        "print(classification_report(y_test, knn_preds))\n",
        "\n",
        "# Random Forest\n",
        "print(\"\\nTraining Random Forest...\")\n",
        "rf = RandomForestClassifier(n_estimators=100, random_state=42)\n",
        "rf.fit(X_train, y_train)\n",
        "rf_preds = rf.predict(X_test)\n",
        "print(\"Random Forest Accuracy:\", accuracy_score(y_test, rf_preds))\n",
        "print(classification_report(y_test, rf_preds))\n",
        "\n",
        "# Lasso Regression (as a binary classifier using logistic regression with L1 penalty)\n",
        "print(\"\\nTraining Lasso Regression...\")\n",
        "lasso = LogisticRegression(penalty=\"l1\", solver=\"liblinear\", random_state=42)\n",
        "lasso.fit(X_train_scaled, y_train)\n",
        "lasso_preds = lasso.predict(X_test_scaled)\n",
        "print(\"Lasso Regression Accuracy:\", accuracy_score(y_test, lasso_preds))\n",
        "print(classification_report(y_test, lasso_preds))\n",
        "\n",
        "# Two-Layer Multi-Layer Perceptron\n",
        "print(\"\\nTraining Multi-Layer Perceptron...\")\n",
        "mlp = MLPClassifier(hidden_layer_sizes=(64, 32), max_iter=200, random_state=42)\n",
        "mlp.fit(X_train_scaled, y_train)\n",
        "mlp_preds = mlp.predict(X_test_scaled)\n",
        "print(\"MLP Accuracy:\", accuracy_score(y_test, mlp_preds))\n",
        "print(classification_report(y_test, mlp_preds))"
      ],
      "metadata": {
        "colab": {
          "base_uri": "https://localhost:8080/"
        },
        "id": "UKmRD3l3r0qr",
        "outputId": "290901ca-3409-4f88-cefd-4b79dcf45348"
      },
      "execution_count": 9,
      "outputs": [
        {
          "output_type": "stream",
          "name": "stdout",
          "text": [
            "Training K-Nearest Neighbors...\n",
            "KNN Accuracy: 0.9255\n",
            "              precision    recall  f1-score   support\n",
            "\n",
            "           0       0.93      1.00      0.96      1859\n",
            "           1       0.10      0.01      0.01       141\n",
            "\n",
            "    accuracy                           0.93      2000\n",
            "   macro avg       0.51      0.50      0.49      2000\n",
            "weighted avg       0.87      0.93      0.89      2000\n",
            "\n",
            "\n",
            "Training Random Forest...\n",
            "Random Forest Accuracy: 0.9295\n",
            "              precision    recall  f1-score   support\n",
            "\n",
            "           0       0.93      1.00      0.96      1859\n",
            "           1       0.00      0.00      0.00       141\n",
            "\n",
            "    accuracy                           0.93      2000\n",
            "   macro avg       0.46      0.50      0.48      2000\n",
            "weighted avg       0.86      0.93      0.90      2000\n",
            "\n",
            "\n",
            "Training Lasso Regression...\n",
            "Lasso Regression Accuracy: 0.9295\n",
            "              precision    recall  f1-score   support\n",
            "\n",
            "           0       0.93      1.00      0.96      1859\n",
            "           1       0.00      0.00      0.00       141\n",
            "\n",
            "    accuracy                           0.93      2000\n",
            "   macro avg       0.46      0.50      0.48      2000\n",
            "weighted avg       0.86      0.93      0.90      2000\n",
            "\n",
            "\n",
            "Training Multi-Layer Perceptron...\n"
          ]
        },
        {
          "output_type": "stream",
          "name": "stderr",
          "text": [
            "/usr/local/lib/python3.10/dist-packages/sklearn/metrics/_classification.py:1531: UndefinedMetricWarning: Precision is ill-defined and being set to 0.0 in labels with no predicted samples. Use `zero_division` parameter to control this behavior.\n",
            "  _warn_prf(average, modifier, f\"{metric.capitalize()} is\", len(result))\n",
            "/usr/local/lib/python3.10/dist-packages/sklearn/metrics/_classification.py:1531: UndefinedMetricWarning: Precision is ill-defined and being set to 0.0 in labels with no predicted samples. Use `zero_division` parameter to control this behavior.\n",
            "  _warn_prf(average, modifier, f\"{metric.capitalize()} is\", len(result))\n",
            "/usr/local/lib/python3.10/dist-packages/sklearn/metrics/_classification.py:1531: UndefinedMetricWarning: Precision is ill-defined and being set to 0.0 in labels with no predicted samples. Use `zero_division` parameter to control this behavior.\n",
            "  _warn_prf(average, modifier, f\"{metric.capitalize()} is\", len(result))\n",
            "/usr/local/lib/python3.10/dist-packages/sklearn/metrics/_classification.py:1531: UndefinedMetricWarning: Precision is ill-defined and being set to 0.0 in labels with no predicted samples. Use `zero_division` parameter to control this behavior.\n",
            "  _warn_prf(average, modifier, f\"{metric.capitalize()} is\", len(result))\n",
            "/usr/local/lib/python3.10/dist-packages/sklearn/metrics/_classification.py:1531: UndefinedMetricWarning: Precision is ill-defined and being set to 0.0 in labels with no predicted samples. Use `zero_division` parameter to control this behavior.\n",
            "  _warn_prf(average, modifier, f\"{metric.capitalize()} is\", len(result))\n",
            "/usr/local/lib/python3.10/dist-packages/sklearn/metrics/_classification.py:1531: UndefinedMetricWarning: Precision is ill-defined and being set to 0.0 in labels with no predicted samples. Use `zero_division` parameter to control this behavior.\n",
            "  _warn_prf(average, modifier, f\"{metric.capitalize()} is\", len(result))\n"
          ]
        },
        {
          "output_type": "stream",
          "name": "stdout",
          "text": [
            "MLP Accuracy: 0.8915\n",
            "              precision    recall  f1-score   support\n",
            "\n",
            "           0       0.93      0.95      0.94      1859\n",
            "           1       0.10      0.07      0.08       141\n",
            "\n",
            "    accuracy                           0.89      2000\n",
            "   macro avg       0.52      0.51      0.51      2000\n",
            "weighted avg       0.87      0.89      0.88      2000\n",
            "\n"
          ]
        },
        {
          "output_type": "stream",
          "name": "stderr",
          "text": [
            "/usr/local/lib/python3.10/dist-packages/sklearn/neural_network/_multilayer_perceptron.py:690: ConvergenceWarning: Stochastic Optimizer: Maximum iterations (200) reached and the optimization hasn't converged yet.\n",
            "  warnings.warn(\n"
          ]
        }
      ]
    },
    {
      "cell_type": "code",
      "source": [
        "# Import necessary libraries\n",
        "from sklearn.ensemble import RandomForestClassifier\n",
        "from sklearn.model_selection import cross_val_score\n",
        "\n",
        "# Random Forest model\n",
        "rf = RandomForestClassifier(n_estimators=100, random_state=42)\n",
        "\n",
        "# Perform 5-fold cross-validation\n",
        "cv_scores = cross_val_score(rf, X, y, cv=5, scoring='accuracy')\n",
        "\n",
        "# Print cross-validation results\n",
        "print(\"Cross-Validation Scores:\", cv_scores)\n",
        "print(\"Mean Accuracy:\", np.mean(cv_scores))\n",
        "print(\"Standard Deviation:\", np.std(cv_scores))\n"
      ],
      "metadata": {
        "colab": {
          "base_uri": "https://localhost:8080/"
        },
        "id": "OSchmEvpuzDQ",
        "outputId": "a325d2a2-220d-423c-e3ed-00a7bcab6dd7"
      },
      "execution_count": 10,
      "outputs": [
        {
          "output_type": "stream",
          "name": "stdout",
          "text": [
            "Cross-Validation Scores: [0.9295 0.9295 0.928  0.929  0.929 ]\n",
            "Mean Accuracy: 0.929\n",
            "Standard Deviation: 0.0005477225575051464\n"
          ]
        }
      ]
    },
    {
      "cell_type": "code",
      "source": [
        "# Import necessary libraries for evaluation\n",
        "from sklearn.metrics import confusion_matrix, ConfusionMatrixDisplay\n",
        "import matplotlib.pyplot as plt\n",
        "\n",
        "# Train the Random Forest model\n",
        "rf = RandomForestClassifier(n_estimators=100, random_state=42)\n",
        "rf.fit(X_train, y_train)\n",
        "\n",
        "# Predict on the test set\n",
        "rf_preds = rf.predict(X_test)\n",
        "\n",
        "# Generate the confusion matrix\n",
        "cm = confusion_matrix(y_test, rf_preds)\n",
        "\n",
        "# Display the confusion matrix\n",
        "disp = ConfusionMatrixDisplay(confusion_matrix=cm, display_labels=rf.classes_)\n",
        "disp.plot(cmap=plt.cm.Blues)\n",
        "plt.title(\"Confusion Matrix for Random Forest\")\n",
        "plt.show()\n"
      ],
      "metadata": {
        "colab": {
          "base_uri": "https://localhost:8080/",
          "height": 472
        },
        "id": "N6Hly9DKvKoo",
        "outputId": "f33f39a0-b4ed-411e-b81b-5ce59abd3366"
      },
      "execution_count": 11,
      "outputs": [
        {
          "output_type": "display_data",
          "data": {
            "text/plain": [
              "<Figure size 640x480 with 2 Axes>"
            ],
            "image/png": "[encoded data removed]"
          },
          "metadata": {}
        }
      ]
    },
    {
      "cell_type": "code",
      "source": [
        "# Import necessary libraries\n",
        "from imblearn.over_sampling import SMOTE\n",
        "from sklearn.ensemble import RandomForestClassifier\n",
        "from sklearn.metrics import confusion_matrix, ConfusionMatrixDisplay\n",
        "from sklearn.model_selection import train_test_split\n",
        "from sklearn.preprocessing import StandardScaler\n",
        "import matplotlib.pyplot as plt\n",
        "\n",
        "# Split the dataset into training and testing\n",
        "X_train, X_test, y_train, y_test = train_test_split(X, y, test_size=0.2, random_state=42)\n",
        "\n",
        "# Balance the dataset using SMOTE\n",
        "smote = SMOTE(random_state=42)\n",
        "X_train_balanced, y_train_balanced = smote.fit_resample(X_train, y_train)\n",
        "\n",
        "# Scale the data\n",
        "scaler = StandardScaler()\n",
        "X_train_scaled = scaler.fit_transform(X_train_balanced)\n",
        "X_test_scaled = scaler.transform(X_test)\n",
        "\n",
        "# Train the Random Forest model\n",
        "rf = RandomForestClassifier(n_estimators=100, random_state=42)\n",
        "rf.fit(X_train_scaled, y_train_balanced)\n",
        "\n",
        "# Predict on the test set\n",
        "rf_preds = rf.predict(X_test_scaled)\n",
        "\n",
        "# Generate the confusion matrix\n",
        "cm = confusion_matrix(y_test, rf_preds)\n",
        "\n",
        "# Display the confusion matrix\n",
        "disp = ConfusionMatrixDisplay(confusion_matrix=cm, display_labels=rf.classes_)\n",
        "disp.plot(cmap=plt.cm.Blues)\n",
        "plt.title(\"Confusion Matrix for Balanced Random Forest\")\n",
        "plt.show()\n"
      ],
      "metadata": {
        "colab": {
          "base_uri": "https://localhost:8080/",
          "height": 472
        },
        "id": "DAMNTxkgvpsX",
        "outputId": "44936cbd-f80a-4ff2-df92-a987cb502e93"
      },
      "execution_count": 12,
      "outputs": [
        {
          "output_type": "display_data",
          "data": {
            "text/plain": [
              "<Figure size 640x480 with 2 Axes>"
            ],
            "image/png": "[encoded data removed]"
          },
          "metadata": {}
        }
      ]
    },
    {
      "cell_type": "code",
      "source": [
        "# Import necessary libraries\n",
        "import pandas as pd\n",
        "from sklearn.model_selection import train_test_split\n",
        "from sklearn.preprocessing import StandardScaler\n",
        "from sklearn.ensemble import RandomForestClassifier\n",
        "from sklearn.metrics import accuracy_score, classification_report\n",
        "from imblearn.over_sampling import SMOTE\n",
        "\n",
        "# Load the dataset (replace 'your_dataset.csv' with your dataset file name)\n",
        "data = pd.read_csv(\"synthetic_transactions.csv\")  # Replace with the actual file name or path\n",
        "\n",
        "# Encode categorical variables\n",
        "data['customer_gender'] = data['customer_gender'].map({'M': 0, 'F': 1})  # Gender encoding\n",
        "data = pd.get_dummies(data, columns=['transaction_category'], drop_first=True)  # One-hot encoding for categories\n",
        "\n",
        "# Define features and target variable\n",
        "X = data.drop(columns=[\"fraud\"])  # Drop the target column from features\n",
        "y = data[\"fraud\"]  # Target column\n",
        "\n",
        "# Split the dataset into train and test sets\n",
        "X_train, X_test, y_train, y_test = train_test_split(X, y, test_size=0.2, random_state=42)\n",
        "\n",
        "# Balance the dataset using SMOTE\n",
        "smote = SMOTE(random_state=42)\n",
        "X_train_balanced, y_train_balanced = smote.fit_resample(X_train, y_train)\n",
        "\n",
        "# Scale the data\n",
        "scaler = StandardScaler()\n",
        "X_train_scaled = scaler.fit_transform(X_train_balanced)\n",
        "X_test_scaled = scaler.transform(X_test)\n",
        "\n",
        "# Train the Random Forest model\n",
        "rf = RandomForestClassifier(n_estimators=100, random_state=42)\n",
        "rf.fit(X_train_scaled, y_train_balanced)\n",
        "\n",
        "# Predict on the test set\n",
        "rf_preds = rf.predict(X_test_scaled)\n",
        "\n",
        "# Calculate accuracy\n",
        "accuracy = accuracy_score(y_test, rf_preds)\n",
        "print(\"Random Forest Model Accuracy:\", accuracy)\n",
        "\n",
        "# Display a classification report for more detailed evaluation\n",
        "print(\"\\nClassification Report:\\n\", classification_report(y_test, rf_preds))\n"
      ],
      "metadata": {
        "colab": {
          "base_uri": "https://localhost:8080/"
        },
        "id": "ro2iEtrCwBwt",
        "outputId": "f51dcc68-e0bd-4caf-ee62-06245e7fd4f5"
      },
      "execution_count": 14,
      "outputs": [
        {
          "output_type": "stream",
          "name": "stdout",
          "text": [
            "Random Forest Model Accuracy: 0.885\n",
            "\n",
            "Classification Report:\n",
            "               precision    recall  f1-score   support\n",
            "\n",
            "           0       0.94      0.94      0.94      1859\n",
            "           1       0.20      0.21      0.21       141\n",
            "\n",
            "    accuracy                           0.89      2000\n",
            "   macro avg       0.57      0.57      0.57      2000\n",
            "weighted avg       0.89      0.89      0.89      2000\n",
            "\n"
          ]
        }
      ]
    }
  ]
}